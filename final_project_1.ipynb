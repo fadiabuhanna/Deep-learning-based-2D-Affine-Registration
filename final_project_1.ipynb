{
  "cells": [
    {
      "cell_type": "code",
      "execution_count": 1,
      "metadata": {
        "colab": {
          "base_uri": "https://localhost:8080/"
        },
        "id": "rsV1xclq-Plx",
        "outputId": "b002ec20-5c8c-4502-903d-4e1735de14f1"
      },
      "outputs": [
        {
          "output_type": "stream",
          "name": "stdout",
          "text": [
            "Looking in indexes: https://pypi.org/simple, https://us-python.pkg.dev/colab-wheels/public/simple/\n",
            "Requirement already satisfied: SimpleITK in /usr/local/lib/python3.7/dist-packages (2.2.0)\n",
            "Looking in indexes: https://pypi.org/simple, https://us-python.pkg.dev/colab-wheels/public/simple/\n",
            "Requirement already satisfied: dipy in /usr/local/lib/python3.7/dist-packages (1.5.0)\n",
            "Requirement already satisfied: tqdm>=4.30.0 in /usr/local/lib/python3.7/dist-packages (from dipy) (4.64.1)\n",
            "Requirement already satisfied: scipy>=1.1 in /usr/local/lib/python3.7/dist-packages (from dipy) (1.7.3)\n",
            "Requirement already satisfied: h5py>=2.8.0 in /usr/local/lib/python3.7/dist-packages (from dipy) (3.1.0)\n",
            "Requirement already satisfied: nibabel>=3.0.0 in /usr/local/lib/python3.7/dist-packages (from dipy) (3.0.2)\n",
            "Requirement already satisfied: cached-property in /usr/local/lib/python3.7/dist-packages (from h5py>=2.8.0->dipy) (1.5.2)\n",
            "Requirement already satisfied: numpy>=1.14.5 in /usr/local/lib/python3.7/dist-packages (from h5py>=2.8.0->dipy) (1.21.6)\n"
          ]
        }
      ],
      "source": [
        "!pip install SimpleITK\n",
        "!pip install dipy"
      ]
    },
    {
      "cell_type": "code",
      "execution_count": 2,
      "metadata": {
        "id": "5IjDPTC89831"
      },
      "outputs": [],
      "source": [
        "import numpy as np\n",
        "import SimpleITK as sitk\n",
        "import tensorflow.keras.datasets.mnist as mnist\n",
        "import random\n",
        "from numpy.random import uniform\n",
        "import os\n",
        "import cv2\n",
        "import math\n",
        "from dipy.utils.optpkg import optional_package\n",
        "from distutils.version import LooseVersion\n",
        "import tqdm.notebook as tqdm\n"
      ]
    },
    {
      "cell_type": "code",
      "execution_count": 3,
      "metadata": {
        "id": "eLXqwSc1LCC3"
      },
      "outputs": [],
      "source": [
        "tf, have_tf, _ = optional_package('tensorflow')\n",
        "layers, _, _ = optional_package(\"tensorflow.keras.layers\")\n",
        "matplotlib, has_mpl, setup_module = optional_package(\"matplotlib\")\n",
        "plt, _, _ = optional_package(\"matplotlib.pyplot\")\n",
        "\n",
        "if have_tf:\n",
        "    if LooseVersion(tf.__version__) < LooseVersion('2.0.0'):\n",
        "        raise ImportError('Please upgrade to TensorFlow 2+')\n",
        "\n",
        "os.environ['TF_CPP_MIN_LOG_LEVEL'] = '2'\n"
      ]
    },
    {
      "cell_type": "code",
      "source": [
        "class Args():\n",
        "    train_size = 4000\n",
        "    test_size = 400\n",
        "    batch_size = 512\n",
        "    epochs = 2000\n",
        "    lr = 0.01\n",
        "    num_samples = 5  # number of sample results to show\n",
        "    save_model = 0\n",
        "    sample_count = 5\n",
        "\n",
        "args = Args()"
      ],
      "metadata": {
        "id": "QY5CmvuwHu-G"
      },
      "execution_count": 4,
      "outputs": []
    },
    {
      "cell_type": "code",
      "execution_count": 5,
      "metadata": {
        "id": "CiVyXcfsQHi3"
      },
      "outputs": [],
      "source": [
        "def plot_images(moving, static, moved):\n",
        "    nb, nh, nw, nc = moving.shape\n",
        "\n",
        "    # Convert the tensors to 8-bit images.\n",
        "    moved = moved.numpy().squeeze(axis=-1) * 255.0\n",
        "    moved = moved.astype(np.uint8)\n",
        "    moving = moving.numpy().squeeze(axis=-1) * 255.0\n",
        "    moving = moving.astype(np.uint8)\n",
        "    static = static.numpy().squeeze(axis=-1) * 255.0\n",
        "    static = static.astype(np.uint8)\n",
        "\n",
        "    # Plot images.\n",
        "    fig = plt.figure(figsize=(3 * 1.7, nb * 1.7))\n",
        "    titles_list = ['Static', 'Moved', 'Moving']\n",
        "    images_list = [static, moved, moving]\n",
        "    for i in range(nb):\n",
        "        for j in range(3):\n",
        "            ax = fig.add_subplot(nb, 3, i * 3 + j + 1)\n",
        "            if i == 0:\n",
        "                ax.set_title(titles_list[j], fontsize=20)\n",
        "            ax.set_axis_off()\n",
        "            ax.imshow(images_list[j][i], cmap='gray')\n",
        "\n",
        "    plt.tight_layout()\n",
        "    plt.show()"
      ]
    },
    {
      "cell_type": "markdown",
      "metadata": {
        "id": "yKhP-_RRY-Qu"
      },
      "source": [
        "image transform helper functions"
      ]
    },
    {
      "cell_type": "code",
      "execution_count": 6,
      "metadata": {
        "id": "XaUwjw0iK63t"
      },
      "outputs": [],
      "source": [
        "def regular_grid_2d(height, width):\n",
        "    x = tf.linspace(-1.0, 1.0, width)  # shape (W, )\n",
        "    y = tf.linspace(-1.0, 1.0, height)  # shape (H, )\n",
        "\n",
        "    X, Y = tf.meshgrid(x, y)  # shape (H, W), both X and Y\n",
        "\n",
        "    grid = tf.stack([X, Y], axis=-1)\n",
        "    return grid"
      ]
    },
    {
      "cell_type": "code",
      "execution_count": 7,
      "metadata": {
        "id": "bPrnTGppK9XQ"
      },
      "outputs": [],
      "source": [
        "def grid_transform(theta, grid):\n",
        "    # todo grid has nb\n",
        "    nb = tf.shape(theta)[0]\n",
        "    nh, nw, _ = tf.shape(grid)\n",
        "    x = grid[..., 0]  # h,w\n",
        "    y = grid[..., 1]\n",
        "\n",
        "    x_flat = tf.reshape(x, shape=[-1])\n",
        "    y_flat = tf.reshape(y, shape=[-1])\n",
        "    ones = tf.ones_like(x_flat)\n",
        "    grid_flat = tf.stack([x_flat, y_flat, ones])\n",
        "    grid_flat = tf.expand_dims(grid_flat, axis=0)\n",
        "\n",
        "    grid_flat = tf.tile(grid_flat, tf.stack([nb, 1, 1]))  # (None, 3, 1024)\n",
        "\n",
        "    theta = tf.cast(theta, 'float32')\n",
        "    grid_flat = tf.cast(grid_flat, 'float32')\n",
        "\n",
        "    grid_new = tf.matmul(theta, grid_flat)  # n, 2, h*w // (None, 2, 1024)\n",
        "\n",
        "    grid_new = tf.transpose(grid_new, perm=[0, 2, 1])  # (None, 1024, 2)\n",
        "\n",
        "    grid_new = tf.reshape(grid_new, [nb, nh, nw, 2])  # (None, 32, 32, 2)\n",
        "\n",
        "    return grid_new\n"
      ]
    },
    {
      "cell_type": "code",
      "execution_count": 8,
      "metadata": {
        "id": "NYrb4w0qLZCs"
      },
      "outputs": [],
      "source": [
        "def grid_sample_2d(moving, grid):\n",
        "    nb, nh, nw, nc = tf.shape(moving)\n",
        "\n",
        "    x = grid[..., 0]  # shape (N, H, W)\n",
        "    y = grid[..., 1]\n",
        "    x = tf.cast(x, 'float32')\n",
        "    y = tf.cast(y, 'float32')\n",
        "\n",
        "    # Scale x and y from [-1.0, 1.0] to [0, W] and [0, H] respectively.\n",
        "    x = (x + 1.0) * 0.5 * tf.cast(nw - 1, 'float32')\n",
        "    y = (y + 1.0) * 0.5 * tf.cast(nh - 1, 'float32')\n",
        "\n",
        "    y_max = tf.cast(nh - 1, 'int32')\n",
        "    x_max = tf.cast(nw - 1, 'int32')\n",
        "    zero = tf.constant(0, 'int32')\n",
        "\n",
        "    # The value at (x, y) is a weighted average of the values at the\n",
        "    # four nearest integer locations: (x0, y0), (x1, y0), (x0, y1) and\n",
        "    # (x1, y1) where x0 = floor(x), x1 = ceil(x).\n",
        "    x0 = tf.cast(tf.floor(x), 'int32')\n",
        "    x1 = x0 + 1\n",
        "    y0 = tf.cast(tf.floor(y), 'int32')\n",
        "    y1 = y0 + 1\n",
        "\n",
        "    # Make sure indices are within the boundaries of the image.\n",
        "    x0 = tf.clip_by_value(x0, zero, x_max)\n",
        "    x1 = tf.clip_by_value(x1, zero, x_max)\n",
        "    y0 = tf.clip_by_value(y0, zero, y_max)\n",
        "    y1 = tf.clip_by_value(y1, zero, y_max)\n",
        "\n",
        "    # Collect indices of the four corners.\n",
        "    b = tf.ones_like(x0) * tf.reshape(tf.range(nb), [nb, 1, 1])\n",
        "    idx_a = tf.stack([b, y0, x0], axis=-1)  # all top-left corners\n",
        "    idx_b = tf.stack([b, y1, x0], axis=-1)  # all bottom-left corners\n",
        "    idx_c = tf.stack([b, y0, x1], axis=-1)  # all top-right corners\n",
        "    idx_d = tf.stack([b, y1, x1], axis=-1)  # all bottom-right corners\n",
        "    # shape (N, H, W, 3)\n",
        "\n",
        "    # Collect values at the corners.\n",
        "    moving_a = tf.gather_nd(moving, idx_a)  # all top-left values\n",
        "    moving_b = tf.gather_nd(moving, idx_b)  # all bottom-left values\n",
        "    moving_c = tf.gather_nd(moving, idx_c)  # all top-right values\n",
        "    moving_d = tf.gather_nd(moving, idx_d)  # all bottom-right values\n",
        "    # shape (N, H, W, C)\n",
        "\n",
        "    x0_f = tf.cast(x0, 'float32')\n",
        "    x1_f = tf.cast(x1, 'float32')\n",
        "    y0_f = tf.cast(y0, 'float32')\n",
        "    y1_f = tf.cast(y1, 'float32')\n",
        "\n",
        "    # Calculate the weights.\n",
        "    wa = tf.expand_dims((x1_f - x) * (y1_f - y), axis=-1)\n",
        "    wb = tf.expand_dims((x1_f - x) * (y - y0_f), axis=-1)\n",
        "    wc = tf.expand_dims((x - x0_f) * (y1_f - y), axis=-1)\n",
        "    wd = tf.expand_dims((x - x0_f) * (y - y0_f), axis=-1)\n",
        "\n",
        "    # Calculate the weighted sum.\n",
        "    moved = tf.add_n([wa * moving_a, wb * moving_b, wc * moving_c, wd * moving_d])\n",
        "    return moved\n"
      ]
    },
    {
      "cell_type": "code",
      "execution_count": 9,
      "metadata": {
        "id": "COub2P9wKlu5"
      },
      "outputs": [],
      "source": [
        "def do_affine_2d(matrix, moving):\n",
        "  grid = regular_grid_2d(32, 32)\n",
        "  grid_new = grid_transform(matrix, grid)\n",
        "  grid_new = tf.clip_by_value(grid_new, -1, 1)\n",
        "  moved = grid_sample_2d(moving, grid_new)\n",
        "  return moved"
      ]
    },
    {
      "cell_type": "markdown",
      "metadata": {
        "id": "Fmm7L1M3PXZe"
      },
      "source": [
        "data creator"
      ]
    },
    {
      "cell_type": "code",
      "execution_count": 10,
      "metadata": {
        "id": "JzCwr_WlZEj3"
      },
      "outputs": [],
      "source": [
        "def load_data(train_count=1000, test_count=100):\n",
        "    \"\"\"Loads the MNIST dataset and preprocesses it: scales to [0.0, 1.0]\n",
        "    range, resizes the images from (28, 28) to (32, 32) and filters the\n",
        "    dataset to keep images of just one class.\n",
        "\n",
        "\n",
        "    Returns\n",
        "    -------\n",
        "    (x_train, x_test) : tuple of ndarrays\n",
        "        NumPy arrays of training and testing images.\n",
        "    \"\"\"\n",
        "    (x_train, y_train), (x_test, y_test) = tf.keras.datasets.mnist.load_data()\n",
        "\n",
        "    x_train = x_train[:train_count]\n",
        "    x_test = x_test[:test_count]\n",
        "\n",
        "    # Scale the image to [0, 1] range.\n",
        "    x_train = x_train.astype(np.float32) / 255.0\n",
        "    x_test = x_test.astype(np.float32) / 255.0\n",
        "\n",
        "    # Add the channel dim at the end. (N, H, W) --> (N, H, W, 1)\n",
        "    x_train = x_train[..., None]\n",
        "    x_test = x_test[..., None]\n",
        "\n",
        "    # Resize images from (28, 28) to (32, 32).\n",
        "    x_train = tf.image.resize(x_train, (32, 32))\n",
        "    x_test = tf.image.resize(x_test, (32, 32))\n",
        "    return x_train, x_test"
      ]
    },
    {
      "cell_type": "markdown",
      "metadata": {
        "id": "kTuXG8_cZKgF"
      },
      "source": [
        "function to create random affine matrix"
      ]
    },
    {
      "cell_type": "code",
      "execution_count": 11,
      "metadata": {
        "id": "b3MKH8XpPW4n"
      },
      "outputs": [],
      "source": [
        "def rand_min_plos_1():\n",
        "    return (random.randint(0, 1) - 0.5) * 2\n",
        "\n",
        "def generate_aff_matrices(dim, num, max_scaling=0.5, max_translation=0, max_shear=1, set_max=0):\n",
        "    matrices = []\n",
        "    for _ in range(num):\n",
        "        mat = np.eye(dim + 1)\n",
        "        for i in range(dim):\n",
        "            for j in range(dim):\n",
        "                if i == j:  # scaling\n",
        "                    mat[i][j] *= (1 + rand_min_plos_1() * max_scaling) if set_max else uniform(1 - max_scaling,\n",
        "                                                                                               1 + max_scaling)\n",
        "                else:  # shear\n",
        "                    mat[i][j] += rand_min_plos_1() * max_shear if set_max else uniform(-max_shear, max_shear)\n",
        "\n",
        "            mat[i][dim] += rand_min_plos_1() * max_translation if set_max else uniform(-max_translation,\n",
        "                                                                                       max_translation)\n",
        "        mat = mat[0:dim, 0:dim + 1]\n",
        "        matrices.append(mat)\n",
        "    return matrices\n"
      ]
    },
    {
      "cell_type": "markdown",
      "metadata": {
        "id": "7oKD4QG5ZORC"
      },
      "source": [
        "The cnn model"
      ]
    },
    {
      "cell_type": "code",
      "execution_count": 12,
      "metadata": {
        "id": "tgJwPy7qZQJN"
      },
      "outputs": [],
      "source": [
        "def simple_cnn(input_shape=(32, 32)):\n",
        "    in_channels = 1\n",
        "    # out_channels = 3\n",
        "    input_shape = input_shape + (in_channels,)\n",
        "    moving = layers.Input(shape=input_shape, name='moving')\n",
        "    static = layers.Input(shape=input_shape, name='static')\n",
        "    x_in = layers.concatenate([static, moving], axis=-1)\n",
        "    # print(input_shape)\n",
        "    x = x_in\n",
        "\n",
        "    x = layers.Conv2D(32, kernel_size=3, strides=2, padding='same',\n",
        "                      activation='relu')(x)  # 32 --> 16\n",
        "    x = layers.BatchNormalization()(x)  # 16\n",
        "    x = layers.Conv2D(64, kernel_size=3, strides=1, padding='same',\n",
        "                      activation='relu')(x)  # 16\n",
        "    x = layers.BatchNormalization()(x)  # 16\n",
        "    x = layers.MaxPool2D(pool_size=2)(x)  # 16 --> 8\n",
        "    x = layers.Conv2D(64, kernel_size=3, strides=1, padding='same',\n",
        "                      activation='relu')(x)  # 8\n",
        "    x = layers.BatchNormalization()(x)  # 8\n",
        "    x = layers.Conv2D(64, kernel_size=3, strides=1, padding='same',\n",
        "                      activation='relu')(x)  # 8\n",
        "    x = layers.BatchNormalization()(x)  # 8\n",
        "    x = layers.MaxPool2D(pool_size=2)(x)  # 8 --> 4\n",
        "    x = layers.Conv2D(64, kernel_size=3, strides=1, padding='same',\n",
        "                      activation='relu')(x)  # 4\n",
        "    x = layers.BatchNormalization()(x)  # 4\n",
        "\n",
        "    x = layers.Flatten()(x)\n",
        "\n",
        "    x = layers.Dense(32, activation='relu')(x)  # 4*4*32\n",
        "\n",
        "    start_matrix = [1, 0, 0,\n",
        "                    0, 1, 0]\n",
        "\n",
        "    x = layers.Dense(6, kernel_initializer='zeros',\n",
        "                     bias_initializer=tf.constant_initializer(start_matrix))(x)\n",
        "    nb, _ = tf.shape(x)\n",
        "    theta = tf.reshape(x, [nb, 2, 3])\n",
        "    grid = regular_grid_2d(32, 32)\n",
        "    grid_new = grid_transform(theta, grid)\n",
        "    grid_new = tf.clip_by_value(grid_new, -1, 1)\n",
        "\n",
        "    moved = grid_sample_2d(static, grid_new)\n",
        "\n",
        "    model = tf.keras.Model(inputs=[static, moving], outputs=[moved, theta],\n",
        "                           name='simple_cnn')\n",
        "    return model"
      ]
    },
    {
      "cell_type": "markdown",
      "metadata": {
        "id": "5ZnMYR1gbPts"
      },
      "source": [
        "train, test and loss functions"
      ]
    },
    {
      "cell_type": "code",
      "execution_count": 13,
      "metadata": {
        "id": "DLuyS8FVbXIn"
      },
      "outputs": [],
      "source": [
        "# @tf.function\n",
        "def mse_loss(static, moving):\n",
        "    loss = tf.reduce_mean(tf.square(moving - static))  # shape ()\n",
        "    return loss\n",
        "\n",
        "\n",
        "# @tf.function\n",
        "def ncc_loss(static, moving):\n",
        "    eps = tf.constant(1e-9, 'float32')\n",
        "\n",
        "    static_mean = tf.reduce_mean(static, axis=[1, 2], keepdims=True)\n",
        "    moving_mean = tf.reduce_mean(moving, axis=[1, 2], keepdims=True)\n",
        "    # shape (N, 1, 1, C)\n",
        "\n",
        "    static_std = tf.math.reduce_std(static, axis=[1, 2], keepdims=True)\n",
        "    moving_std = tf.math.reduce_std(moving, axis=[1, 2], keepdims=True)\n",
        "    # shape (N, 1, 1, C)\n",
        "\n",
        "    static_hat = (static - static_mean)/(static_std + eps)\n",
        "    moving_hat = (moving - moving_mean)/(moving_std + eps)\n",
        "    # shape (N, H, W, C)\n",
        "\n",
        "    ncc = tf.reduce_mean(static_hat * moving_hat)  # shape ()\n",
        "    loss = -ncc\n",
        "    return loss"
      ]
    },
    {
      "cell_type": "code",
      "execution_count": 14,
      "metadata": {
        "id": "KeEwqxrZZNw1"
      },
      "outputs": [],
      "source": [
        "# @tf.function\n",
        "def train_step(model, moving, static, criterion, optimizer):\n",
        "    nb, nh, nw, nc = tf.keras.backend.int_shape(moving)  # moving.shape\n",
        "\n",
        "    # Repeat the static image along the batch dim.\n",
        "    multiples = tf.constant([nb, 1, 1, 1], tf.int32)\n",
        "\n",
        "    # Define the GradientTape context for automatic differentiation.\n",
        "    with tf.GradientTape() as tape:\n",
        "        # Get the deformation field\n",
        "        # inputs = tf.concat([moving, static], axis=-1)\n",
        "        # print(static.shape)\n",
        "        # print(moving.shape)\n",
        "        moved, matrix = model({'moving': moving, 'static': static})\n",
        "        # Compute the loss.\n",
        "        loss = criterion(moved, moving)\n",
        "\n",
        "    # Compute gradients.\n",
        "    grads = tape.gradient(loss, model.trainable_variables)\n",
        "    # Update the trainable parameters.\n",
        "    optimizer.apply_gradients(zip(grads, model.trainable_variables))\n",
        "    return loss"
      ]
    },
    {
      "cell_type": "code",
      "execution_count": 15,
      "metadata": {
        "id": "RpTdEKJSbgj_"
      },
      "outputs": [],
      "source": [
        "# @tf.function\n",
        "def test_step(model, moving, static, criterion):\n",
        "    nb, nh, nw, nc = tf.keras.backend.int_shape(moving)  # moving.shape\n",
        "\n",
        "    # Repeat the static image along the batch dim.\n",
        "    multiples = tf.constant([nb, 1, 1, 1], tf.int32)\n",
        "\n",
        "    # Get the deformation field.\n",
        "    # inputs = tf.concat([moving, static], axis=-1)\n",
        "    moved, matrix = model({'moving': moving, 'static': static}, training=False)\n",
        "\n",
        "    # Compute the loss.\n",
        "    loss = criterion(moved, moving)\n",
        "    return loss"
      ]
    },
    {
      "cell_type": "code",
      "source": [
        "random.seed(42)\n",
        "np.random.seed(42)\n",
        "\n",
        "train_size = args.train_size\n",
        "test_size = args.test_size\n",
        "train_static_all, test_static_all = load_data(train_size, test_size)\n",
        "\n",
        "train_affine_matrices = generate_aff_matrices(dim=2, num=train_static_all.shape[0])\n",
        "test_affine_matrices = generate_aff_matrices(dim=2, num=test_static_all.shape[0])\n",
        "\n",
        "train_moving_all = do_affine_2d(train_affine_matrices, train_static_all)\n",
        "test_moving_all = do_affine_2d(test_affine_matrices, test_static_all)\n",
        "\n",
        "samples_static = test_static_all[0:args.sample_count]\n",
        "samples_moving = test_moving_all[0:args.sample_count]\n",
        "samples_matrices = test_affine_matrices[0:args.sample_count]\n",
        "\n",
        "from_tensor_slices = tf.data.Dataset.from_tensor_slices\n",
        "train_moving = from_tensor_slices(train_moving_all).shuffle(10000).batch(args.batch_size)\n",
        "train_static = from_tensor_slices(train_static_all).shuffle(10000).batch(args.batch_size)\n",
        "test_moving = from_tensor_slices(test_moving_all).shuffle(10000).batch(args.batch_size)\n",
        "test_static = from_tensor_slices(test_static_all).shuffle(10000).batch(args.batch_size)"
      ],
      "metadata": {
        "id": "pQZy3AEWMNt4"
      },
      "execution_count": 16,
      "outputs": []
    },
    {
      "cell_type": "code",
      "execution_count": 17,
      "metadata": {
        "colab": {
          "base_uri": "https://localhost:8080/",
          "height": 84,
          "referenced_widgets": [
            "b9483f43c1a44be98fb71a88bd8b43a6",
            "27b081a403b945dabc120dd6b0c35d7f",
            "74a3046195914b8cb6cc7fe67a8c7d58",
            "33d3ddfa7d644ea3996e0000f85f0b33",
            "d57b1f395888466c917caf94edaf5a67",
            "634ccd35b0224966b90c8e0f4fce1cae",
            "bfb86b489315439698a4f11a9eb344a8",
            "52d8525528d04dbe85eddaef22c93ed3",
            "103a584ff4214428ad7cdce4e102f6ee",
            "725dbcb7c06a4b478b77452b3c377e63",
            "5c6d1a0d16854afd8dccf036d8b9a28d"
          ]
        },
        "id": "3ek0bgT9bnTf",
        "outputId": "a1151860-af79-4c3e-fb1d-c44296024878"
      },
      "outputs": [
        {
          "output_type": "display_data",
          "data": {
            "text/plain": [
              "  0%|          | 0/2000 [00:00<?, ?it/s]"
            ],
            "application/vnd.jupyter.widget-view+json": {
              "version_major": 2,
              "version_minor": 0,
              "model_id": "b9483f43c1a44be98fb71a88bd8b43a6"
            }
          },
          "metadata": {}
        },
        {
          "output_type": "stream",
          "name": "stdout",
          "text": [
            "\n",
            "\n"
          ]
        }
      ],
      "source": [
        "# Create a model instance.\n",
        "model = simple_cnn(input_shape=(32, 32))\n",
        "\n",
        "# Select optimizer and loss function.\n",
        "optimizer = tf.keras.optimizers.SGD(learning_rate=args.lr)\n",
        "criterion = ncc_loss  # or mse_loss\n",
        "\n",
        "# Define the metrics to track training and testing losses.\n",
        "m_train = tf.keras.metrics.Mean(name='loss_train')\n",
        "m_test = tf.keras.metrics.Mean(name='loss_test')\n",
        "\n",
        "test_losses = []\n",
        "train_losses = []\n",
        "\n",
        "best_test_score = 0\n",
        "\n",
        "# Train and evaluate the model.\n",
        "with tqdm.trange(args.epochs) as pbar:\n",
        "  for epoch in pbar:\n",
        "      m_train.reset_states()\n",
        "      m_test.reset_states()\n",
        "      for i, (moving, static) in enumerate(zip(train_moving, train_static)):\n",
        "          loss_train = train_step(model, moving, static, criterion, optimizer)\n",
        "          m_train.update_state(loss_train)\n",
        "\n",
        "      for i, (moving, static) in enumerate(zip(test_moving, test_static)):\n",
        "          loss_test = test_step(model, moving, static, criterion)\n",
        "          m_test.update_state(loss_test)\n",
        "      train_losses.append(m_train.result())\n",
        "      test_losses.append(m_test.result())\n",
        "\n",
        "      if best_test_score > test_losses[-1]+0.01:\n",
        "        best_test_score = test_losses[-1]\n",
        "        if args.save_model:\n",
        "          # print(f'model saved with loss = {best_test_score}')\n",
        "          model.save('saved_models/simple_cnn')\n",
        "      pbar.set_description(\"TrainLoss={:.2f}, TestLoss={:.2f}, BestTestLoss={:.2f}\".format(m_train.result(), m_test.result(), best_test_score))\n",
        "print('\\n')\n",
        "\n",
        "# # Show sample results.\n",
        "# plot_images(model, x_sample, static)\n",
        "\n",
        "# Save the trained model.\n"
      ]
    },
    {
      "cell_type": "code",
      "source": [
        "epochs = range(1, args.epochs+1)\n",
        "plt.plot(epochs, test_losses, 'g', label='Testing loss')\n",
        "plt.plot(epochs, train_losses, 'b', label='Train loss')\n",
        "plt.title('Training and Testing loss')\n",
        "plt.xlabel('Epochs')\n",
        "plt.ylabel('Loss')\n",
        "plt.legend()\n",
        "plt.show()"
      ],
      "metadata": {
        "id": "5o3hqy0ROykI",
        "colab": {
          "base_uri": "https://localhost:8080/",
          "height": 295
        },
        "outputId": "fcd09823-f11a-4e9c-9101-c6278fe3267d"
      },
      "execution_count": 18,
      "outputs": [
        {
          "output_type": "display_data",
          "data": {
            "text/plain": [
              "<Figure size 432x288 with 1 Axes>"
            ],
            "image/png": "[encoded data removed]"
          },
          "metadata": {
            "needs_background": "light"
          }
        }
      ]
    },
    {
      "cell_type": "markdown",
      "metadata": {
        "id": "O62_K4vEBp_g"
      },
      "source": [
        "Example from the tests"
      ]
    },
    {
      "cell_type": "code",
      "execution_count": 19,
      "metadata": {
        "id": "UXNfszuKjdua",
        "colab": {
          "base_uri": "https://localhost:8080/",
          "height": 1000
        },
        "outputId": "5cecc66a-21a0-4f30-996f-c9c135c1e231"
      },
      "outputs": [
        {
          "output_type": "display_data",
          "data": {
            "text/plain": [
              "<Figure size 367.2x612 with 15 Axes>"
            ],
            "image/png": "[encoded data removed]"
          },
          "metadata": {
            "needs_background": "light"
          }
        },
        {
          "output_type": "stream",
          "name": "stdout",
          "text": [
            "1) expected_matrix - model_matrix = \n",
            "[[-0.33640957 -0.36533538  0.0313728 ]\n",
            " [ 0.5271994   0.2771243   0.01269852]]\n",
            "diff norm = 0.7762241363525391\n",
            "ncc=0.2250075489282608\n",
            "========================================================\n",
            "2) expected_matrix - model_matrix = \n",
            "[[-0.522923   -0.11479387 -0.0412444 ]\n",
            " [-0.67116934  0.08039981  0.06218388]]\n",
            "diff norm = 0.8655208945274353\n",
            "ncc=0.5214778184890747\n",
            "========================================================\n",
            "3) expected_matrix - model_matrix = \n",
            "[[-0.01870853  0.11201596  0.01938471]\n",
            " [-0.8607749  -0.76301736  0.12479083]]\n",
            "diff norm = 1.1627446413040161\n",
            "ncc=0.1747347116470337\n",
            "========================================================\n",
            "4) expected_matrix - model_matrix = \n",
            "[[-0.03067565 -0.2434848  -0.00177264]\n",
            " [ 0.13551402 -0.04873431  0.01696662]]\n",
            "diff norm = 0.2850542664527893\n",
            "ncc=0.06745412200689316\n",
            "========================================================\n",
            "5) expected_matrix - model_matrix = \n",
            "[[-0.20919508  0.14327231  0.02586928]\n",
            " [-0.25959092 -0.12628913 -0.04570905]]\n",
            "diff norm = 0.3877943456172943\n",
            "ncc=0.32910794019699097\n",
            "========================================================\n"
          ]
        }
      ],
      "source": [
        "def plot_results(samples_static=samples_static, samples_moving=samples_moving):\n",
        "  moved, matrix = model({'moving': samples_moving, 'static': samples_static}, training=False)\n",
        "  plot_images(samples_moving, samples_static, moved)\n",
        "\n",
        "  for i in range(len(matrix)):\n",
        "    m1 = samples_matrices[i]\n",
        "    m2 = matrix[i]\n",
        "    # print(f'expected_matrix=\\n{m1}')\n",
        "    # print(f'model_matrix=\\n{m2}')\n",
        "    print(f'{i+1}) expected_matrix - model_matrix = \\n{np.array(m1 - m2)}\\ndiff norm = {np.linalg.norm(np.array(m1 - m2))}')\n",
        "    print(f'ncc={-ncc_loss(samples_moving[i], samples_static[i]).numpy()}')\n",
        "    print(f'========================================================')\n",
        "\n",
        "plot_results()"
      ]
    },
    {
      "cell_type": "code",
      "execution_count": 20,
      "metadata": {
        "id": "Wjz-znZqDm5s"
      },
      "outputs": [],
      "source": [
        "nccs = []\n",
        "diffs = []\n",
        "train_moved_all, out_matrix = model({'moving': test_static_all, 'static': test_static_all}, training=False)\n",
        "for i in range(len(test_static_all)):\n",
        "  static = test_static_all[i]\n",
        "  moving = test_static_all[i]\n",
        "  m1 = train_affine_matrices[i]\n",
        "  m2 = out_matrix[i]\n",
        "  moved = train_moved_all[i]\n",
        "  diffs.append(np.linalg.norm(np.array(m1 - m2)))\n",
        "  nccs.append(-ncc_loss(moving, moved).numpy())"
      ]
    },
    {
      "cell_type": "code",
      "execution_count": 21,
      "metadata": {
        "id": "a_c6IR0VAHb-",
        "colab": {
          "base_uri": "https://localhost:8080/",
          "height": 295
        },
        "outputId": "a5581f5c-9ead-40a7-802f-9be6ecbbe2b9"
      },
      "outputs": [
        {
          "output_type": "display_data",
          "data": {
            "text/plain": [
              "<Figure size 432x288 with 1 Axes>"
            ],
            "image/png": "[encoded data removed]"
          },
          "metadata": {
            "needs_background": "light"
          }
        }
      ],
      "source": [
        "plt.scatter(nccs, diffs)\n",
        "plt.title('ncc vs norm')\n",
        "plt.xlabel('NCC')\n",
        "plt.ylabel('||diff||')\n",
        "plt.show()"
      ]
    }
  ],
  "metadata": {
    "accelerator": "GPU",
    "colab": {
      "provenance": [],
      "collapsed_sections": []
    },
    "gpuClass": "standard",
    "kernelspec": {
      "display_name": "Python 3",
      "name": "python3"
    },
    "language_info": {
      "name": "python"
    },
    "widgets": {
      "application/vnd.jupyter.widget-state+json": {
        "b9483f43c1a44be98fb71a88bd8b43a6": {
          "model_module": "@jupyter-widgets/controls",
          "model_name": "HBoxModel",
          "model_module_version": "1.5.0",
          "state": {
            "_dom_classes": [],
            "_model_module": "@jupyter-widgets/controls",
            "_model_module_version": "1.5.0",
            "_model_name": "HBoxModel",
            "_view_count": null,
            "_view_module": "@jupyter-widgets/controls",
            "_view_module_version": "1.5.0",
            "_view_name": "HBoxView",
            "box_style": "",
            "children": [
              "IPY_MODEL_27b081a403b945dabc120dd6b0c35d7f",
              "IPY_MODEL_74a3046195914b8cb6cc7fe67a8c7d58",
              "IPY_MODEL_33d3ddfa7d644ea3996e0000f85f0b33"
            ],
            "layout": "IPY_MODEL_d57b1f395888466c917caf94edaf5a67"
          }
        },
        "27b081a403b945dabc120dd6b0c35d7f": {
          "model_module": "@jupyter-widgets/controls",
          "model_name": "HTMLModel",
          "model_module_version": "1.5.0",
          "state": {
            "_dom_classes": [],
            "_model_module": "@jupyter-widgets/controls",
            "_model_module_version": "1.5.0",
            "_model_name": "HTMLModel",
            "_view_count": null,
            "_view_module": "@jupyter-widgets/controls",
            "_view_module_version": "1.5.0",
            "_view_name": "HTMLView",
            "description": "",
            "description_tooltip": null,
            "layout": "IPY_MODEL_634ccd35b0224966b90c8e0f4fce1cae",
            "placeholder": "​",
            "style": "IPY_MODEL_bfb86b489315439698a4f11a9eb344a8",
            "value": "TrainLoss=-0.55, TestLoss=-0.52, BestTestLoss=-0.52: 100%"
          }
        },
        "74a3046195914b8cb6cc7fe67a8c7d58": {
          "model_module": "@jupyter-widgets/controls",
          "model_name": "FloatProgressModel",
          "model_module_version": "1.5.0",
          "state": {
            "_dom_classes": [],
            "_model_module": "@jupyter-widgets/controls",
            "_model_module_version": "1.5.0",
            "_model_name": "FloatProgressModel",
            "_view_count": null,
            "_view_module": "@jupyter-widgets/controls",
            "_view_module_version": "1.5.0",
            "_view_name": "ProgressView",
            "bar_style": "success",
            "description": "",
            "description_tooltip": null,
            "layout": "IPY_MODEL_52d8525528d04dbe85eddaef22c93ed3",
            "max": 2000,
            "min": 0,
            "orientation": "horizontal",
            "style": "IPY_MODEL_103a584ff4214428ad7cdce4e102f6ee",
            "value": 2000
          }
        },
        "33d3ddfa7d644ea3996e0000f85f0b33": {
          "model_module": "@jupyter-widgets/controls",
          "model_name": "HTMLModel",
          "model_module_version": "1.5.0",
          "state": {
            "_dom_classes": [],
            "_model_module": "@jupyter-widgets/controls",
            "_model_module_version": "1.5.0",
            "_model_name": "HTMLModel",
            "_view_count": null,
            "_view_module": "@jupyter-widgets/controls",
            "_view_module_version": "1.5.0",
            "_view_name": "HTMLView",
            "description": "",
            "description_tooltip": null,
            "layout": "IPY_MODEL_725dbcb7c06a4b478b77452b3c377e63",
            "placeholder": "​",
            "style": "IPY_MODEL_5c6d1a0d16854afd8dccf036d8b9a28d",
            "value": " 2000/2000 [31:45&lt;00:00,  1.08it/s]"
          }
        },
        "d57b1f395888466c917caf94edaf5a67": {
          "model_module": "@jupyter-widgets/base",
          "model_name": "LayoutModel",
          "model_module_version": "1.2.0",
          "state": {
            "_model_module": "@jupyter-widgets/base",
            "_model_module_version": "1.2.0",
            "_model_name": "LayoutModel",
            "_view_count": null,
            "_view_module": "@jupyter-widgets/base",
            "_view_module_version": "1.2.0",
            "_view_name": "LayoutView",
            "align_content": null,
            "align_items": null,
            "align_self": null,
            "border": null,
            "bottom": null,
            "display": null,
            "flex": null,
            "flex_flow": null,
            "grid_area": null,
            "grid_auto_columns": null,
            "grid_auto_flow": null,
            "grid_auto_rows": null,
            "grid_column": null,
            "grid_gap": null,
            "grid_row": null,
            "grid_template_areas": null,
            "grid_template_columns": null,
            "grid_template_rows": null,
            "height": null,
            "justify_content": null,
            "justify_items": null,
            "left": null,
            "margin": null,
            "max_height": null,
            "max_width": null,
            "min_height": null,
            "min_width": null,
            "object_fit": null,
            "object_position": null,
            "order": null,
            "overflow": null,
            "overflow_x": null,
            "overflow_y": null,
            "padding": null,
            "right": null,
            "top": null,
            "visibility": null,
            "width": null
          }
        },
        "634ccd35b0224966b90c8e0f4fce1cae": {
          "model_module": "@jupyter-widgets/base",
          "model_name": "LayoutModel",
          "model_module_version": "1.2.0",
          "state": {
            "_model_module": "@jupyter-widgets/base",
            "_model_module_version": "1.2.0",
            "_model_name": "LayoutModel",
            "_view_count": null,
            "_view_module": "@jupyter-widgets/base",
            "_view_module_version": "1.2.0",
            "_view_name": "LayoutView",
            "align_content": null,
            "align_items": null,
            "align_self": null,
            "border": null,
            "bottom": null,
            "display": null,
            "flex": null,
            "flex_flow": null,
            "grid_area": null,
            "grid_auto_columns": null,
            "grid_auto_flow": null,
            "grid_auto_rows": null,
            "grid_column": null,
            "grid_gap": null,
            "grid_row": null,
            "grid_template_areas": null,
            "grid_template_columns": null,
            "grid_template_rows": null,
            "height": null,
            "justify_content": null,
            "justify_items": null,
            "left": null,
            "margin": null,
            "max_height": null,
            "max_width": null,
            "min_height": null,
            "min_width": null,
            "object_fit": null,
            "object_position": null,
            "order": null,
            "overflow": null,
            "overflow_x": null,
            "overflow_y": null,
            "padding": null,
            "right": null,
            "top": null,
            "visibility": null,
            "width": null
          }
        },
        "bfb86b489315439698a4f11a9eb344a8": {
          "model_module": "@jupyter-widgets/controls",
          "model_name": "DescriptionStyleModel",
          "model_module_version": "1.5.0",
          "state": {
            "_model_module": "@jupyter-widgets/controls",
            "_model_module_version": "1.5.0",
            "_model_name": "DescriptionStyleModel",
            "_view_count": null,
            "_view_module": "@jupyter-widgets/base",
            "_view_module_version": "1.2.0",
            "_view_name": "StyleView",
            "description_width": ""
          }
        },
        "52d8525528d04dbe85eddaef22c93ed3": {
          "model_module": "@jupyter-widgets/base",
          "model_name": "LayoutModel",
          "model_module_version": "1.2.0",
          "state": {
            "_model_module": "@jupyter-widgets/base",
            "_model_module_version": "1.2.0",
            "_model_name": "LayoutModel",
            "_view_count": null,
            "_view_module": "@jupyter-widgets/base",
            "_view_module_version": "1.2.0",
            "_view_name": "LayoutView",
            "align_content": null,
            "align_items": null,
            "align_self": null,
            "border": null,
            "bottom": null,
            "display": null,
            "flex": null,
            "flex_flow": null,
            "grid_area": null,
            "grid_auto_columns": null,
            "grid_auto_flow": null,
            "grid_auto_rows": null,
            "grid_column": null,
            "grid_gap": null,
            "grid_row": null,
            "grid_template_areas": null,
            "grid_template_columns": null,
            "grid_template_rows": null,
            "height": null,
            "justify_content": null,
            "justify_items": null,
            "left": null,
            "margin": null,
            "max_height": null,
            "max_width": null,
            "min_height": null,
            "min_width": null,
            "object_fit": null,
            "object_position": null,
            "order": null,
            "overflow": null,
            "overflow_x": null,
            "overflow_y": null,
            "padding": null,
            "right": null,
            "top": null,
            "visibility": null,
            "width": null
          }
        },
        "103a584ff4214428ad7cdce4e102f6ee": {
          "model_module": "@jupyter-widgets/controls",
          "model_name": "ProgressStyleModel",
          "model_module_version": "1.5.0",
          "state": {
            "_model_module": "@jupyter-widgets/controls",
            "_model_module_version": "1.5.0",
            "_model_name": "ProgressStyleModel",
            "_view_count": null,
            "_view_module": "@jupyter-widgets/base",
            "_view_module_version": "1.2.0",
            "_view_name": "StyleView",
            "bar_color": null,
            "description_width": ""
          }
        },
        "725dbcb7c06a4b478b77452b3c377e63": {
          "model_module": "@jupyter-widgets/base",
          "model_name": "LayoutModel",
          "model_module_version": "1.2.0",
          "state": {
            "_model_module": "@jupyter-widgets/base",
            "_model_module_version": "1.2.0",
            "_model_name": "LayoutModel",
            "_view_count": null,
            "_view_module": "@jupyter-widgets/base",
            "_view_module_version": "1.2.0",
            "_view_name": "LayoutView",
            "align_content": null,
            "align_items": null,
            "align_self": null,
            "border": null,
            "bottom": null,
            "display": null,
            "flex": null,
            "flex_flow": null,
            "grid_area": null,
            "grid_auto_columns": null,
            "grid_auto_flow": null,
            "grid_auto_rows": null,
            "grid_column": null,
            "grid_gap": null,
            "grid_row": null,
            "grid_template_areas": null,
            "grid_template_columns": null,
            "grid_template_rows": null,
            "height": null,
            "justify_content": null,
            "justify_items": null,
            "left": null,
            "margin": null,
            "max_height": null,
            "max_width": null,
            "min_height": null,
            "min_width": null,
            "object_fit": null,
            "object_position": null,
            "order": null,
            "overflow": null,
            "overflow_x": null,
            "overflow_y": null,
            "padding": null,
            "right": null,
            "top": null,
            "visibility": null,
            "width": null
          }
        },
        "5c6d1a0d16854afd8dccf036d8b9a28d": {
          "model_module": "@jupyter-widgets/controls",
          "model_name": "DescriptionStyleModel",
          "model_module_version": "1.5.0",
          "state": {
            "_model_module": "@jupyter-widgets/controls",
            "_model_module_version": "1.5.0",
            "_model_name": "DescriptionStyleModel",
            "_view_count": null,
            "_view_module": "@jupyter-widgets/base",
            "_view_module_version": "1.2.0",
            "_view_name": "StyleView",
            "description_width": ""
          }
        }
      }
    }
  },
  "nbformat": 4,
  "nbformat_minor": 0
}